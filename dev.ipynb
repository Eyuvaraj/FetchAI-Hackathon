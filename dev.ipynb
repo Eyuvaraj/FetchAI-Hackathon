{
 "cells": [
  {
   "cell_type": "code",
   "execution_count": 1,
   "metadata": {},
   "outputs": [],
   "source": [
    "from openai import OpenAI\n",
    "OPENAI_KEY = open(\".env\", \"r\").read().strip()\n",
    "\n",
    "client = OpenAI(api_key=OPENAI_KEY)\n",
    "\n",
    "def message(role, content):\n",
    "  return {\n",
    "    \"role\": role,\n",
    "    \"content\": content\n",
    "  }\n",
    "\n",
    "def chat(messages):\n",
    "  completion = client.chat.completions.create(\n",
    "    model=\"gpt-4o\",\n",
    "    messages=messages\n",
    "  )\n",
    "  response =  completion.choices[0].message.content\n",
    "#   messages.append(message(\"assistant\", response))\n",
    "  return response\n"
   ]
  },
  {
   "cell_type": "code",
   "execution_count": 9,
   "metadata": {},
   "outputs": [],
   "source": [
    "chat_msgs = []"
   ]
  },
  {
   "cell_type": "code",
   "execution_count": 5,
   "metadata": {},
   "outputs": [
    {
     "name": "stdout",
     "output_type": "stream",
     "text": [
      "{'questions': ['What are the approximate dimensions of the house (length, width, height)?', 'How many floors/stories should the house have (e.g., 1, 2, 3)?', 'What architectural style are you aiming for (e.g., modern, traditional, Victorian, colonial)?', 'How many rooms do you want in total, and what specific types are needed (e.g., 3 bedrooms, 2 bathrooms, kitchen, living room, dining room)?', 'Are there any special features you want to include (e.g., garage, balcony, basement, attic, porch, swimming pool)?', 'What materials and textures do you prefer for the exterior and interior of the house (e.g., brick, wood, stone, glass)?', 'What color palette are you considering for the exterior and interior walls?', 'Do you need detailed interior features like furniture, appliances, and decor?', 'Should the house design include surrounding landscapes like a garden, driveway, fence, or patio?', 'Are there any accessibility features that need to be incorporated (e.g., ramps, wide doorways)?', 'Do you have any specific requirements for windows and doors in terms of style and placement?', 'Is there a particular roof style you prefer (e.g., flat, gable, hip)?', 'Do you have any energy-efficient features that you want to include (e.g., solar panels, insulation, green roof)?']}\n"
     ]
    }
   ],
   "source": [
    "output_struct = {\"questions\":[\"list of questions about the 3D model to be built, along with example options\"]}\n",
    "\n",
    "SYSTEM_PROMPT = f\"\"\"You're a 3D graphic designer & planner who specializes in creating 3D models schema based on descriptions of objects. Do not assume anything, you have to ask questions about the model, like how it has to be, its approx dimensions, texture, features and other user customizations too. return the response in this json format: {output_struct} only!\"\"\"\n",
    "\n",
    "chat_msgs.append(message(\"system\", SYSTEM_PROMPT))\n",
    "chat_msgs.append(message(\"user\", \"I want a house\"))\n",
    "\n",
    "print(chat(chat_msgs))"
   ]
  },
  {
   "cell_type": "code",
   "execution_count": 6,
   "metadata": {},
   "outputs": [
    {
     "name": "stdout",
     "output_type": "stream",
     "text": [
      "{'steps': ['Determine the overall dimensions of the house (length, width, height). Example: 50 ft x 40 ft x 25 ft.',\n",
      "            'Create the base structure/floor plan of the house (rectangular or desired shape).',\n",
      "            'Extrude the base to the height of the house for the exterior walls.',\n",
      "            'Subdivide the base for different rooms as per requirements (e.g., bedrooms, bathrooms, kitchen, living room). Example: 3 bedrooms of 12 ft x 10 ft each, 2 bathrooms of 8 ft x 6 ft each.',\n",
      "            'Add the second floor if needed by extruding another level. Include staircases for access.',\n",
      "            'Design and extrude the roof based on the preferred style (e.g., gable, hip, flat). Example: Gable roof with a rise of 8 ft.',\n",
      "            'Add windows and doors in their respective positions on the walls, using the desired style and dimensions. Example: 3 ft x 4 ft windows and 7 ft x 3 ft doors.',\n",
      "            'Include special features such as balconies, porches, or garages. Example: A 20 ft x 10 ft garage and 4 ft x 8 ft balcony.',\n",
      "            'Apply textures and materials to the exterior and interior walls, floors, and roofs as specified. Example: Brick texture for exterior walls, wooden texture for floors.',\n",
      "            'Add details like fencing, driveways, patios, and gardens in the surroundings. Example: A 30 ft x 10 ft garden and a 15 ft x 10 ft driveway.',\n",
      "            'Model interior features like furniture, appliances, and decor as needed. Example: Kitchen with countertops, cabinets, and appliances, living room with sofas and TV.',\n",
      "            'Ensure the inclusion of any accessibility features required, such as ramps or wide doorways.',\n",
      "            'Incorporate energy-efficient features if specified, like solar panels on the roof.']}\n"
     ]
    }
   ],
   "source": [
    "output_struct = {\"steps\":[\"list of instruction to draw the 3D model\"]}\n",
    "\n",
    "SYSTEM_PROMPT = f\"\"\"You're a 3D graphic designer & planner who specializes in creating 3D models schema based on descriptions of objects. Take your time, think and solve step by step, and generate a concise and straightforward list of steps to draw the 3D model (Not 2D) from the description, including proper dimensions for each component. return the response in this json format: {output_struct} only!\"\"\"\n",
    "\n",
    "chat_msgs.append(message(\"system\", SYSTEM_PROMPT))\n",
    "chat_msgs.append(message(\"user\", \"I want a house\"))\n",
    "\n",
    "print(chat(chat_msgs))"
   ]
  },
  {
   "cell_type": "code",
   "execution_count": 8,
   "metadata": {},
   "outputs": [
    {
     "name": "stdout",
     "output_type": "stream",
     "text": [
      "{'description_of_components': 'Exterior Structure: The house will have an overall rectangular shape with dimensions of 50 ft length, 40 ft width, and 25 ft height. The exterior walls will be textured with a brick material. The roof will be a gable style with an 8 ft rise, covered in dark composite shingles.\\\\n\n",
      "First Floor: The first floor will include a living room (15 ft x 20 ft), kitchen (12 ft x 15 ft), dining room (10 ft x 12 ft), and one bathroom (8 ft x 6 ft). Flooring will be a wooden texture.\\\\n\n",
      "Second Floor: The second floor will contain three bedrooms (each 12 ft x 10 ft) and one bathroom (8 ft x 6 ft). Flooring will be carpeted texture. A staircase will connect the first and second floors.\\\\n\n",
      "Windows and Doors: Each floor will have multiple windows (3 ft x 4 ft), with a total of 10 windows around the house. Doors will be standardized at 7 ft height and 3 ft width, with one main entrance door and internal doors for each room.\\\\n\n",
      "Garage: A 20 ft x 10 ft garage attached to the side of the house, with a roll-up door (8 ft width x 7 ft height).\\\\n\n",
      "Porch and Balcony: A porch at the front entrance of the house (10 ft x 6 ft) with wooden railings and a balcony on the second floor (4 ft x 8 ft) extending from the master bedroom.\\\\n\n",
      "Landscaping: A surrounding garden area of 30 ft x 10 ft with grass texture, and a 15 ft x 10 ft driveway connecting the house to the street.\\\\n\n",
      "Interior Features: Kitchen will include countertops, cabinets, and standard kitchen appliances (fridge, oven, dishwasher) in stainless steel textures. The living room will have a sofa, coffee table, and a wall-mounted TV. Bedrooms will include a bed, bedside table, and wardrobe.\\\\n\n",
      "Accessibility Features: A ramp at the front entrance with a gentle slope to provide access to the porch and main door. Doorways inside will be wide enough to accommodate wheelchair access.\\\\n\n",
      "Energy-efficient Features: Solar panels on the roof and insulation in the walls and roof to enhance energy efficiency.'}\n"
     ]
    }
   ],
   "source": [
    "output_struct = {\"description_of_components\":[\"list of description of each component of the 3D model\"]}\n",
    "\n",
    "SYSTEM_PROMPT = f\"\"\"You're a 3D graphic designer & planner who specializes in creating 3D models schema based on descriptions of objects. Take your time, think and solve step by step, and give description of overall exterior structure and other independent/individual components, think this description as a first step of making and printing a model using 3D printer. return the response in this json format: {output_struct} only!\"\"\"\n",
    "\n",
    "chat_msgs = message(\"system\", SYSTEM_PROMPT)\n",
    "chat_msgs.append(message(\"user\", \"I want a house\"))\n",
    "\n",
    "questions = chat(chat_msgs)\n",
    "print(questions)\n"
   ]
  },
  {
   "cell_type": "code",
   "execution_count": 11,
   "metadata": {},
   "outputs": [],
   "source": [
    "import json\n",
    "import ast"
   ]
  },
  {
   "cell_type": "code",
   "execution_count": 13,
   "metadata": {},
   "outputs": [],
   "source": [
    "from uagents import Agent, Context\n",
    "Questionnaire_agent = Agent(name=\"questionnaire_agent\", seed=\"questionnaire_agent_seed\")"
   ]
  },
  {
   "cell_type": "code",
   "execution_count": 17,
   "metadata": {},
   "outputs": [],
   "source": [
    "@Questionnaire_agent.on_event(\"startup\")\n",
    "async def Questionnaire_agent(ctx: Context):\n",
    "\tctx.logger.info(\"Questionnaire agent is kicking off\")\n",
    "    \n",
    "\toutput_struct = {\"questions\":[\"list of questions about the 3D model to be built, along with sample options\"]}\n",
    "    \n",
    "\tSYSTEM_PROMPT = f\"\"\"You're a 3D graphic designer & planner who specializes in creating 3D models schema based on descriptions of objects. Do not assume anything, you have to ask questions about the model, like how it has to be, its approx dimensions, texture, features and other user customizations too. return the response in this json format: {output_struct} only!\"\"\"\n",
    "\n",
    "\tchat_msgs = message(\"system\", SYSTEM_PROMPT)\n",
    "\tchat_msgs.append(message(\"user\", \"I want a house\"))\n",
    "\n",
    "\n",
    "\ttry:\n",
    "\t\tquestions = ast.literal_eval(chat(chat_msgs))\n",
    "\t\tprint(questions)\n",
    "\n",
    "\t\tquestions = [q for q in questions[\"questions\"]]\n",
    "\texcept Exception as e:\n",
    "\t\tctx.logger.error(e)\n",
    "\t\tprint(e)\n",
    "\t\tquestions = []\n",
    "\n",
    "\tctx.logger.info(chat(chat_msgs))"
   ]
  },
  {
   "cell_type": "code",
   "execution_count": 19,
   "metadata": {},
   "outputs": [
    {
     "ename": "RuntimeError",
     "evalue": "This event loop is already running",
     "output_type": "error",
     "traceback": [
      "\u001b[1;31m---------------------------------------------------------------------------\u001b[0m",
      "\u001b[1;31mRuntimeError\u001b[0m                              Traceback (most recent call last)",
      "Cell \u001b[1;32mIn[19], line 1\u001b[0m\n\u001b[1;32m----> 1\u001b[0m \u001b[43mQuestionnaire_agent\u001b[49m\u001b[38;5;241;43m.\u001b[39;49m\u001b[43mrun\u001b[49m\u001b[43m(\u001b[49m\u001b[43m)\u001b[49m\n",
      "File \u001b[1;32mc:\\Users\\grand\\AppData\\Local\\pypoetry\\Cache\\virtualenvs\\3d_model_builder-YijtRLfP-py3.11\\Lib\\site-packages\\uagents\\agent.py:903\u001b[0m, in \u001b[0;36mAgent.run\u001b[1;34m(self)\u001b[0m\n\u001b[0;32m    898\u001b[0m \u001b[38;5;28;01mdef\u001b[39;00m \u001b[38;5;21mrun\u001b[39m(\u001b[38;5;28mself\u001b[39m):\n\u001b[0;32m    899\u001b[0m \u001b[38;5;250m    \u001b[39m\u001b[38;5;124;03m\"\"\"\u001b[39;00m\n\u001b[0;32m    900\u001b[0m \u001b[38;5;124;03m    Run the agent.\u001b[39;00m\n\u001b[0;32m    901\u001b[0m \n\u001b[0;32m    902\u001b[0m \u001b[38;5;124;03m    \"\"\"\u001b[39;00m\n\u001b[1;32m--> 903\u001b[0m     \u001b[38;5;28;43mself\u001b[39;49m\u001b[38;5;241;43m.\u001b[39;49m\u001b[43msetup\u001b[49m\u001b[43m(\u001b[49m\u001b[43m)\u001b[49m\n\u001b[0;32m    904\u001b[0m     \u001b[38;5;28;01mtry\u001b[39;00m:\n\u001b[0;32m    905\u001b[0m         \u001b[38;5;28;01mif\u001b[39;00m \u001b[38;5;28mself\u001b[39m\u001b[38;5;241m.\u001b[39m_use_mailbox:\n",
      "File \u001b[1;32mc:\\Users\\grand\\AppData\\Local\\pypoetry\\Cache\\virtualenvs\\3d_model_builder-YijtRLfP-py3.11\\Lib\\site-packages\\uagents\\agent.py:869\u001b[0m, in \u001b[0;36mAgent.setup\u001b[1;34m(self)\u001b[0m\n\u001b[0;32m    867\u001b[0m \u001b[38;5;66;03m# register the internal agent protocol\u001b[39;00m\n\u001b[0;32m    868\u001b[0m \u001b[38;5;28mself\u001b[39m\u001b[38;5;241m.\u001b[39minclude(\u001b[38;5;28mself\u001b[39m\u001b[38;5;241m.\u001b[39m_protocol)\n\u001b[1;32m--> 869\u001b[0m \u001b[38;5;28;43mself\u001b[39;49m\u001b[38;5;241;43m.\u001b[39;49m\u001b[43m_loop\u001b[49m\u001b[38;5;241;43m.\u001b[39;49m\u001b[43mrun_until_complete\u001b[49m\u001b[43m(\u001b[49m\u001b[38;5;28;43mself\u001b[39;49m\u001b[38;5;241;43m.\u001b[39;49m\u001b[43m_startup\u001b[49m\u001b[43m(\u001b[49m\u001b[43m)\u001b[49m\u001b[43m)\u001b[49m\n\u001b[0;32m    870\u001b[0m \u001b[38;5;28mself\u001b[39m\u001b[38;5;241m.\u001b[39mstart_background_tasks()\n",
      "File \u001b[1;32m~\\AppData\\Local\\Programs\\Python\\Python311\\Lib\\asyncio\\base_events.py:630\u001b[0m, in \u001b[0;36mBaseEventLoop.run_until_complete\u001b[1;34m(self, future)\u001b[0m\n\u001b[0;32m    619\u001b[0m \u001b[38;5;250m\u001b[39m\u001b[38;5;124;03m\"\"\"Run until the Future is done.\u001b[39;00m\n\u001b[0;32m    620\u001b[0m \n\u001b[0;32m    621\u001b[0m \u001b[38;5;124;03mIf the argument is a coroutine, it is wrapped in a Task.\u001b[39;00m\n\u001b[1;32m   (...)\u001b[0m\n\u001b[0;32m    627\u001b[0m \u001b[38;5;124;03mReturn the Future's result, or raise its exception.\u001b[39;00m\n\u001b[0;32m    628\u001b[0m \u001b[38;5;124;03m\"\"\"\u001b[39;00m\n\u001b[0;32m    629\u001b[0m \u001b[38;5;28mself\u001b[39m\u001b[38;5;241m.\u001b[39m_check_closed()\n\u001b[1;32m--> 630\u001b[0m \u001b[38;5;28;43mself\u001b[39;49m\u001b[38;5;241;43m.\u001b[39;49m\u001b[43m_check_running\u001b[49m\u001b[43m(\u001b[49m\u001b[43m)\u001b[49m\n\u001b[0;32m    632\u001b[0m new_task \u001b[38;5;241m=\u001b[39m \u001b[38;5;129;01mnot\u001b[39;00m futures\u001b[38;5;241m.\u001b[39misfuture(future)\n\u001b[0;32m    633\u001b[0m future \u001b[38;5;241m=\u001b[39m tasks\u001b[38;5;241m.\u001b[39mensure_future(future, loop\u001b[38;5;241m=\u001b[39m\u001b[38;5;28mself\u001b[39m)\n",
      "File \u001b[1;32m~\\AppData\\Local\\Programs\\Python\\Python311\\Lib\\asyncio\\base_events.py:589\u001b[0m, in \u001b[0;36mBaseEventLoop._check_running\u001b[1;34m(self)\u001b[0m\n\u001b[0;32m    587\u001b[0m \u001b[38;5;28;01mdef\u001b[39;00m \u001b[38;5;21m_check_running\u001b[39m(\u001b[38;5;28mself\u001b[39m):\n\u001b[0;32m    588\u001b[0m     \u001b[38;5;28;01mif\u001b[39;00m \u001b[38;5;28mself\u001b[39m\u001b[38;5;241m.\u001b[39mis_running():\n\u001b[1;32m--> 589\u001b[0m         \u001b[38;5;28;01mraise\u001b[39;00m \u001b[38;5;167;01mRuntimeError\u001b[39;00m(\u001b[38;5;124m'\u001b[39m\u001b[38;5;124mThis event loop is already running\u001b[39m\u001b[38;5;124m'\u001b[39m)\n\u001b[0;32m    590\u001b[0m     \u001b[38;5;28;01mif\u001b[39;00m events\u001b[38;5;241m.\u001b[39m_get_running_loop() \u001b[38;5;129;01mis\u001b[39;00m \u001b[38;5;129;01mnot\u001b[39;00m \u001b[38;5;28;01mNone\u001b[39;00m:\n\u001b[0;32m    591\u001b[0m         \u001b[38;5;28;01mraise\u001b[39;00m \u001b[38;5;167;01mRuntimeError\u001b[39;00m(\n\u001b[0;32m    592\u001b[0m             \u001b[38;5;124m'\u001b[39m\u001b[38;5;124mCannot run the event loop while another loop is running\u001b[39m\u001b[38;5;124m'\u001b[39m)\n",
      "\u001b[1;31mRuntimeError\u001b[0m: This event loop is already running"
     ]
    }
   ],
   "source": [
    "Questionnaire_agent.run()"
   ]
  },
  {
   "cell_type": "code",
   "execution_count": null,
   "metadata": {},
   "outputs": [],
   "source": [
    "#👤: user input ✅\n",
    "#🤖: generate questions ✅\n",
    "#🤖: ask questions, clear any ambiguity \n",
    "#👤: answer questions\n",
    "#💻: store user input, questions, answers\n",
    "#🤖: generate detailed description of components using the stored info\n",
    "#🤖: create series of steps to create 3D model and its components\n",
    "#🤖: generate 3D model vrml file, see how to write a vrml file properly\n",
    "#💻: convert vrml file to stl file\n",
    "#🎞️: view the 3D model\n",
    "#📂: export the 3D model files"
   ]
  }
 ],
 "metadata": {
  "kernelspec": {
   "display_name": "Python 3 (ipykernel)",
   "language": "python",
   "name": "python3"
  },
  "language_info": {
   "codemirror_mode": {
    "name": "ipython",
    "version": 3
   },
   "file_extension": ".py",
   "mimetype": "text/x-python",
   "name": "python",
   "nbconvert_exporter": "python",
   "pygments_lexer": "ipython3",
   "version": "3.11.9"
  }
 },
 "nbformat": 4,
 "nbformat_minor": 2
}
