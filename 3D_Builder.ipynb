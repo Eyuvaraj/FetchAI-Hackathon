{
 "cells": [
  {
   "cell_type": "code",
   "execution_count": 1,
   "metadata": {},
   "outputs": [],
   "source": [
    "from uagents import Agent, Context\n",
    "from openai import OpenAI\n",
    "import ast\n",
    "import re"
   ]
  },
  {
   "cell_type": "code",
   "execution_count": 2,
   "metadata": {},
   "outputs": [],
   "source": [
    "OPENAI_KEY = open(\".env\", \"r\").read().strip()\n",
    "\n",
    "client = OpenAI(api_key=OPENAI_KEY)\n",
    "\n",
    "\n",
    "def message(role, content):\n",
    "  return {\n",
    "    \"role\": role,\n",
    "    \"content\": content\n",
    "  }\n",
    "\n",
    "def chat(messages):\n",
    "  completion = client.chat.completions.create(\n",
    "    model=\"gpt-4o\",\n",
    "    messages=messages\n",
    "  )\n",
    "  response =  completion.choices[0].message.content\n",
    "#   messages.append(message(\"assistant\", response))\n",
    "  return response"
   ]
  },
  {
   "cell_type": "code",
   "execution_count": null,
   "metadata": {},
   "outputs": [],
   "source": [
    "Questionnaire_agent = Agent(name=\"questionnaire_agent\", seed=\"questionnaire_agent_seed\")\n",
    "\n",
    "@Questionnaire_agent.on_event(\"startup\")\n",
    "async def questionnaire_agent(ctx: Context):\n",
    "    ctx.logger.info(\"Questionnaire agent is kicking off\")\n",
    "\n",
    "    output_struct = {\"questions\":[\"list of questions about the 3D model to be built, along with sample options\"]}\n",
    "\n",
    "    chat_msgs = []\n",
    "\n",
    "    SYSTEM_PROMPT = f\"\"\"You're a 3D graphic designer & planner who specializes in creating 3D models schema based on descriptions of objects. Do not assume anything, you have to ask questions about the model, like how it has to be, its approx dimensions, texture, features and other user customizations too. return the response in this json format: {output_struct} only!, don't include any introductory/ending text.\"\"\"\n",
    "\n",
    "    chat_msgs.append(message(\"system\", SYSTEM_PROMPT))\n",
    "    chat_msgs.append(message(\"user\", \"I want a house\"))\n",
    "\n",
    "    print(ctx.logger.info(chat(chat_msgs)))\n",
    "\n",
    "    try:\n",
    "        questions = ast.literal_eval(chat(chat_msgs))\n",
    "        print(questions)\n",
    "\n",
    "        questions = [q for q in questions[\"questions\"][0]]\n",
    "\n",
    "        for q in questions:\n",
    "            chat_msgs.append(message(\"system\", q))\n",
    "            chat_msgs.append(message(\"user\", \"#######\"))\n",
    "    except Exception as e:\n",
    "        ctx.logger.error(e)\n",
    "        print(e)\n",
    "        questions = []\n",
    "\n",
    "    ctx.logger.info(chat(chat_msgs))"
   ]
  },
  {
   "cell_type": "code",
   "execution_count": 23,
   "metadata": {},
   "outputs": [
    {
     "name": "stderr",
     "output_type": "stream",
     "text": [
      "INFO:httpx:HTTP Request: POST https://api.openai.com/v1/chat/completions \"HTTP/1.1 200 OK\"\n"
     ]
    }
   ],
   "source": [
    "output_struct = {\"questions\":[\"list of questions about the 3D model to be built, along with sample options\"]}\n",
    "\n",
    "chat_msgs = []\n",
    "\n",
    "SYSTEM_PROMPT = f\"\"\"You're a 3D graphic designer & planner who specializes in creating 3D models schema based on descriptions of objects. Do not assume anything, you have to ask questions about the model, like how it has to be, its approx dimensions, texture, features and other user customizations too. return the response in this json format: {output_struct} only!, don't include any introductory/ending text.\"\"\"\n",
    "\n",
    "chat_msgs.append(message(\"system\", SYSTEM_PROMPT))\n",
    "chat_msgs.append(message(\"user\", \"I want a rectangular block\"))\n",
    "\n",
    "\n",
    "questions = chat(chat_msgs)\n"
   ]
  },
  {
   "cell_type": "code",
   "execution_count": 24,
   "metadata": {},
   "outputs": [
    {
     "name": "stdout",
     "output_type": "stream",
     "text": [
      "{\n",
      "    'questions': [\n",
      "        {\n",
      "            'question': 'What are the dimensions of the rectangular block?',\n",
      "            'options': ['Length', 'Width', 'Height']\n",
      "        },\n",
      "        {\n",
      "            'question': 'What material should the rectangular block be made of?',\n",
      "            'options': ['Wood', 'Metal', 'Plastic', 'Stone', 'Other']\n",
      "        },\n",
      "        {\n",
      "            'question': 'What texture should the surface of the rectangular block have?',\n",
      "            'options': ['Smooth', 'Rough', 'Glossy', 'Matte']\n",
      "        },\n",
      "        {\n",
      "            'question': 'What color should the rectangular block be?',\n",
      "            'options': ['Specify Color']\n",
      "        },\n",
      "        {\n",
      "            'question': 'Should there be any specific features on the block?',\n",
      "            'options': ['Holes', 'Etchings', 'Grooves', 'Other', 'None']\n",
      "        },\n",
      "        {\n",
      "            'question': 'Is there any particular weight requirement for the block?',\n",
      "            'options': ['Specify Weight']\n",
      "        }\n",
      "    ]\n",
      "}\n"
     ]
    }
   ],
   "source": [
    "print(questions)"
   ]
  },
  {
   "cell_type": "code",
   "execution_count": 25,
   "metadata": {},
   "outputs": [
    {
     "name": "stdout",
     "output_type": "stream",
     "text": [
      "{'question': 'What are the dimensions of the rectangular block?', 'options': ['Length', 'Width', 'Height']}\n",
      "{'question': 'What material should the rectangular block be made of?', 'options': ['Wood', 'Metal', 'Plastic', 'Stone', 'Other']}\n",
      "{'question': 'What texture should the surface of the rectangular block have?', 'options': ['Smooth', 'Rough', 'Glossy', 'Matte']}\n",
      "{'question': 'What color should the rectangular block be?', 'options': ['Specify Color']}\n",
      "{'question': 'Should there be any specific features on the block?', 'options': ['Holes', 'Etchings', 'Grooves', 'Other', 'None']}\n",
      "{'question': 'Is there any particular weight requirement for the block?', 'options': ['Specify Weight']}\n"
     ]
    }
   ],
   "source": [
    "try:\n",
    "\tif re.search(r\"```json\", questions):\n",
    "\t\tquestions = re.sub(r\"```json\", \"\", questions)\n",
    "\t\tquestions = re.search(r\"```\", questions)\n",
    "\t\tqu = ast.literal_eval(questions)\n",
    "\telse:\n",
    "\t\tqu = ast.literal_eval(questions)\n",
    "\t\t\n",
    "\tqu = [q for q in qu[\"questions\"]]\n",
    "\n",
    "\tfor q in qu:\n",
    "\t\tprint(q)\n",
    "except Exception as e:\n",
    "\tprint(e)\n",
    "\tqu = []"
   ]
  }
 ],
 "metadata": {
  "kernelspec": {
   "display_name": "3d_model_builder-XshBb-17-py3.12",
   "language": "python",
   "name": "python3"
  },
  "language_info": {
   "codemirror_mode": {
    "name": "ipython",
    "version": 3
   },
   "file_extension": ".py",
   "mimetype": "text/x-python",
   "name": "python",
   "nbconvert_exporter": "python",
   "pygments_lexer": "ipython3",
   "version": "3.11.9"
  }
 },
 "nbformat": 4,
 "nbformat_minor": 2
}
